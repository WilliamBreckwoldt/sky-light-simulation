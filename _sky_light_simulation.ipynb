{
 "cells": [
  {
   "cell_type": "code",
   "execution_count": null,
   "id": "d17cc258",
   "metadata": {},
   "outputs": [],
   "source": [
    "import importlib\n",
    "from pixel_data import pixels as px\n",
    "\n",
    "nside = 4\n",
    "\n",
    "pixels = px.load_healpix_json(\n",
    "    nside=nside,\n",
    "    data_dir=\"pixel_data\",\n",
    ")\n",
    "\n",
    "# Do some ray casting\n",
    "\n",
    "# Plot the results"
   ]
  }
 ],
 "metadata": {
  "kernelspec": {
   "display_name": ".venv",
   "language": "python",
   "name": "python3"
  },
  "language_info": {
   "codemirror_mode": {
    "name": "ipython",
    "version": 3
   },
   "file_extension": ".py",
   "mimetype": "text/x-python",
   "name": "python",
   "nbconvert_exporter": "python",
   "pygments_lexer": "ipython3",
   "version": "3.12.3"
  }
 },
 "nbformat": 4,
 "nbformat_minor": 5
}
