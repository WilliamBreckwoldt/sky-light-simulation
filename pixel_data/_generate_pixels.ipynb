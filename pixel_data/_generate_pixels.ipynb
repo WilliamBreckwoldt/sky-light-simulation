{
 "cells": [
  {
   "cell_type": "markdown",
   "id": "d1b2afb0",
   "metadata": {},
   "source": [
    "# Generate Pixels\n",
    "This notebook is to generate pixels based on [HEALPix](https://healpix.sourceforge.io/). These will be used to evenly distribute raycasting around a sphere, with the benefit that integrating the incoming light becomes easy- the areas represented by each pixel are the same, so we just sum them!\n",
    "\n",
    "We call them pixels here, but you can think of each pixel as a vector direction for raycasting. We can visualize this with some of the cells later on."
   ]
  },
  {
   "cell_type": "markdown",
   "id": "d808693e",
   "metadata": {},
   "source": [
    "## Generate Pixel Data\n",
    "Only required if the json for the nside value you want doesn't already exist.\n",
    "\n",
    "This has been separated out from the rest of the work as I thought there may be compatability issues for healpy on Windows machines. Because of this, the healpy pixes have been pre-generated on Linux and stored as json files in this directory."
   ]
  },
  {
   "cell_type": "code",
   "execution_count": null,
   "id": "cd75cfaa",
   "metadata": {},
   "outputs": [],
   "source": [
    "import importlib\n",
    "import pixels as px\n",
    "importlib.reload(px)\n",
    "\n",
    "### USER INPUT ###\n",
    "nside_max = 128\n",
    "# nside_max must be a power of 2. ex: 1, 2, 4, 8, 16, ...\n",
    "# The data created scales exponentially, with each power of two's JSON being about 4x larger.\n",
    "# nside_max of 32's JSON is ~2.6MiB, nside_max of 1024's JSON is ~2.6GiB.\n",
    "\n",
    "px.generate_healpix_json(nside_max=nside_max)"
   ]
  },
  {
   "cell_type": "markdown",
   "id": "ef84d06a",
   "metadata": {},
   "source": [
    "## Load Pixel Data\n",
    "Quick demo on how to load pixel data."
   ]
  },
  {
   "cell_type": "code",
   "execution_count": null,
   "id": "0ffa872f",
   "metadata": {},
   "outputs": [],
   "source": [
    "import importlib\n",
    "import pixels as px\n",
    "importlib.reload(px)\n",
    "\n",
    "### USER INPUT ###\n",
    "nside = 4\n",
    "# nside_max must be a power of 2. ex: 1, 2, 4, 8, 16, ...\n",
    "\n",
    "pixels = px.load_healpix_json(nside=nside)"
   ]
  },
  {
   "cell_type": "markdown",
   "id": "0dbb006a",
   "metadata": {},
   "source": [
    "## Visualize Pixels\n",
    "\n",
    "### 2D Projection\n",
    "This projects the area each pixel represents onto a 2D plot."
   ]
  },
  {
   "cell_type": "code",
   "execution_count": null,
   "id": "9674de03",
   "metadata": {},
   "outputs": [],
   "source": [
    "import importlib\n",
    "import visualize as vis\n",
    "import pixels as px\n",
    "importlib.reload(vis)\n",
    "importlib.reload(px)\n",
    "\n",
    "nside = 8\n",
    "\n",
    "pixels = px.load_healpix_json(nside)\n",
    "vis.plot_2d_projection(pixels)"
   ]
  },
  {
   "cell_type": "markdown",
   "id": "36ffafea",
   "metadata": {},
   "source": [
    "### 3D Projection\n",
    "This shows a scatter plot of the pixels. While they're points here, they could be shown as vectors from the origin."
   ]
  },
  {
   "cell_type": "code",
   "execution_count": null,
   "id": "68bf00c9",
   "metadata": {},
   "outputs": [],
   "source": [
    "import importlib\n",
    "import visualize as vis\n",
    "import pixels as px\n",
    "importlib.reload(vis)\n",
    "importlib.reload(px)\n",
    "\n",
    "nside = 8\n",
    "\n",
    "pixels = px.load_healpix_json(nside)\n",
    "vis.plot_3d_scatter(pixels)"
   ]
  },
  {
   "cell_type": "markdown",
   "id": "e0fbe88b",
   "metadata": {},
   "source": [
    "And here's a visualization of them as vectors! Looks better with a low value for nside (like 1,2, or 4)."
   ]
  },
  {
   "cell_type": "code",
   "execution_count": null,
   "id": "d1dd5a48",
   "metadata": {},
   "outputs": [],
   "source": [
    "import importlib\n",
    "import visualize as vis\n",
    "import pixels as px\n",
    "importlib.reload(vis)\n",
    "importlib.reload(px)\n",
    "\n",
    "nside = 4\n",
    "\n",
    "pixels = px.load_healpix_json(nside)\n",
    "vis.plot_3d_vectors(pixels)"
   ]
  }
 ],
 "metadata": {
  "kernelspec": {
   "display_name": ".venv",
   "language": "python",
   "name": "python3"
  },
  "language_info": {
   "codemirror_mode": {
    "name": "ipython",
    "version": 3
   },
   "file_extension": ".py",
   "mimetype": "text/x-python",
   "name": "python",
   "nbconvert_exporter": "python",
   "pygments_lexer": "ipython3",
   "version": "3.12.3"
  }
 },
 "nbformat": 4,
 "nbformat_minor": 5
}
